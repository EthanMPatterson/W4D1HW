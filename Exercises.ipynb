{
 "cells": [
  {
   "cell_type": "code",
   "execution_count": 4,
   "metadata": {},
   "outputs": [],
   "source": [
    "import re"
   ]
  },
  {
   "cell_type": "markdown",
   "metadata": {},
   "source": [
    "### Exercise 1"
   ]
  },
  {
   "cell_type": "markdown",
   "metadata": {},
   "source": [
    "Write a function that takes in a tweet and returns a list of the hashtags in the tweet<br>\n",
    "Ex. 1<br>\n",
    "tweet = \"Python is the best #Python #Programming #CodingTemple\"<br>\n",
    "Expected Output: [\"#Python\", \"#Programming\", \"#CodingTemple\"]<br>\n",
    "\n",
    "Ex. 2<br>\n",
    "tweet = \"I love my life! #blessed\"<br>\n",
    "Expected Output: [\"#bleesed\"]<br>\n",
    "\n",
    "Ex. 3<br>\n",
    "tweet = \"Bear Down\"<br>\n",
    "Expected Output: []<br>\n"
   ]
  },
  {
   "cell_type": "code",
   "execution_count": 27,
   "metadata": {},
   "outputs": [],
   "source": [
    "example_text = '''\n",
    "Python is the best #Python #Programming #CodingTemple\n",
    "I love my life! #blessed\n",
    "Bear Down\n",
    "'''\n",
    "\n",
    "pattern = re.compile(r\"[#]\\w+\")\n",
    "hashtags = pattern.finditer(example_text)\n",
    "for hash in hashtags:\n",
    "    print(hash)"
   ]
  },
  {
   "cell_type": "markdown",
   "metadata": {},
   "source": [
    "### Exercise 2"
   ]
  },
  {
   "cell_type": "markdown",
   "metadata": {},
   "source": [
    "Develop a regular expression to validate a username. The username should start with a letter, followed by any combination of letters, numbers, underscores, and dots. It should be between 3 and 16 characters long<br>\n",
    "Ex. 1 <br>\n",
    "username = \"CodingTemple123\"<br>\n",
    "Expected Output: True<br>\n",
    "\n",
    "Ex. 2 <br>\n",
    "username = \"1love\"<br>\n",
    "Expected Output: False<br>\n",
    "\n",
    "Ex. 3 <br>\n",
    "username = \"CT\"<br>\n",
    "Expected Output: False<br>\n",
    "\n",
    "Ex. 4 <br>\n",
    "username = \"This_is_a_username_that_I_would_like_to_use\"<br>\n",
    "Expected Output: False<br>\n",
    "\n",
    "Ex. 5 <br>\n",
    "username = \"brian_ct123\"<br>\n",
    "Expected Output: True<br>"
   ]
  },
  {
   "cell_type": "code",
   "execution_count": 56,
   "metadata": {
    "scrolled": true
   },
   "outputs": [
    {
     "name": "stdout",
     "output_type": "stream",
     "text": [
      "CodingTemple123 is in fact a valid username\n",
      "brian_ct123 is in fact a valid username\n",
      "ethan.patterson is in fact a valid username\n"
     ]
    }
   ],
   "source": [
    "import re\n",
    "\n",
    "example_text2 = '''\n",
    "CodingTemple123\n",
    "1love\n",
    "CT\n",
    "This_is_a_username_that_I_would_like_to_us\n",
    "brian_ct123\n",
    "ethan.patterson\n",
    "'''\n",
    "\n",
    "pattern2 = re.compile(r\"^[a-zA-Z]+[_\\.]?\\w{3,11}$\", flags=re.M)\n",
    "valid_user = pattern2.finditer(example_text2)\n",
    "\n",
    "for user in valid_user:\n",
    "    print(f\"{user.group()} is in fact a valid username\")"
   ]
  },
  {
   "cell_type": "markdown",
   "metadata": {},
   "source": [
    "### Exercise 3"
   ]
  },
  {
   "cell_type": "markdown",
   "metadata": {},
   "source": [
    "Using the Python `open()` function, read in the `example.txt` file (attached in Google Classroom, make sure it is in the same folder as this notebook). Create a pattern that will find all of the dates in the text. Dates are in the format of YYYY-MM-DD. The pattern should have groups for year, month, and day. Using the `.finditer()` method, iterate over the dates and print in format of month/day/year<br>"
   ]
  },
  {
   "cell_type": "markdown",
   "metadata": {},
   "source": [
    "Output:\n",
    "```\n",
    "05/15/1990\n",
    "09/20/2015\n",
    "12/03/1985\n",
    "06/18/2010\n",
    "11/30/2002\n",
    "08/10/1978\n",
    "04/25/1992\n",
    "07/07/2019\n",
    "02/12/1980\n",
    "03/22/2005\n",
    "```"
   ]
  },
  {
   "cell_type": "code",
   "execution_count": 86,
   "metadata": {},
   "outputs": [
    {
     "data": {
      "text/plain": [
       "\"Daniel Martinez was born on 1990-05-15. He later married Elizabeth Anderson on 2015-09-20.\\n\\nAlice Johnson's birthdate is 1985-12-03, and she got her degree on 2010-06-18.\\n\\nMichael Brown's graduation date is 2002-11-30. He celebrated his birthday on 1978-08-10.\\n\\nEmily Wilson was born on 1992-04-25. She completed her Ph.D. on 2019-07-07.\\n\\nSarah Clark's birthdate is 1980-02-12. She joined the company on 2005-03-22.\\n\""
      ]
     },
     "execution_count": 86,
     "metadata": {},
     "output_type": "execute_result"
    }
   ],
   "source": [
    "with open('example.txt') as date_file:\n",
    "    date_list = date_file.read()\n",
    "date_list"
   ]
  },
  {
   "cell_type": "code",
   "execution_count": 96,
   "metadata": {},
   "outputs": [
    {
     "name": "stdout",
     "output_type": "stream",
     "text": [
      "05/15/1990\n",
      "09/20/2015\n",
      "12/03/1985\n",
      "06/18/2010\n",
      "11/30/2002\n",
      "08/10/1978\n",
      "04/25/1992\n",
      "07/07/2019\n",
      "02/12/1980\n",
      "03/22/2005\n"
     ]
    }
   ],
   "source": [
    "date_pattern = re.compile(r'(\\d{4})-(\\d{2})-(\\d{2})', flags=re.M,)\n",
    "dates = date_pattern.finditer(date_list)\n",
    "for date in dates:\n",
    "    print(f\"{date.group(2)}/{date.group(3)}/{date.group(1)}\")\n"
   ]
  }
 ],
 "metadata": {
  "kernelspec": {
   "display_name": "Python 3 (ipykernel)",
   "language": "python",
   "name": "python3"
  },
  "language_info": {
   "codemirror_mode": {
    "name": "ipython",
    "version": 3
   },
   "file_extension": ".py",
   "mimetype": "text/x-python",
   "name": "python",
   "nbconvert_exporter": "python",
   "pygments_lexer": "ipython3",
   "version": "3.12.2"
  }
 },
 "nbformat": 4,
 "nbformat_minor": 4
}
